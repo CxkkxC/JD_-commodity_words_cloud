{
 "cells": [
  {
   "cell_type": "code",
   "execution_count": 1,
   "metadata": {},
   "outputs": [],
   "source": [
    "# import lxml.html\n",
    "\n",
    "# metree = lxml.html.etree\n",
    "\n",
    "# file_html=open(\"1.html\",\"r\",encoding= \"utf-8\")\n",
    "\n",
    "# html_content=file_html.read()\n",
    "\n",
    "# parser = metree.HTML(html_content)\n",
    "\n",
    "# thing_list= parser.xpath(\"//*[@id='comment-0']\")\n",
    "# # /html/body/div[12]/div[2]/div[3]/div[2]/div[2]/div[2]/div[1]/div[2]/div[2]/p\n",
    "# # /html/body/div[12]/div[2]/div[3]/div[2]/div[2]/div[2]/div[1]/div[1]/div[2]/p\n",
    "# a=[]\n",
    "# for i in thing_list:\n",
    "#     a.append(i.xpath(\"./div[@class='user-info']/text()\"))\n",
    "#     a.append(i.xpath(\"./p[@class='comment-con']/text()\"))\n",
    "# print(a)\n",
    "# print('ok')"
   ]
  },
  {
   "cell_type": "code",
   "execution_count": 1,
   "metadata": {},
   "outputs": [],
   "source": [
    "# import requests\n",
    "# import re\n",
    "# import datetime\n",
    "# import json\n",
    "\n",
    "# def get_url(html_url,encode):\n",
    "#     \"\"\"\n",
    "#     爬取整个网页内容\n",
    "#     :param html_url:\n",
    "#     :return:\n",
    "#     \"\"\"\n",
    "#     headers = {\n",
    "#         \"user-agent\": \"Mozilla/5.0 (Windows NT 10.0; Win64; x64; rv:73.0) Gecko/20100101 Firefox/73.0\"\n",
    "#     }\n",
    "#     response = requests.get(html_url, headers=headers)\n",
    "#     response.encoding = encode\n",
    "#     html_content = response.text\n",
    "#     return html_content\n",
    "\n",
    "# url = \"https://www.baidu.com/baidu?wd=%E5%9C%A8%E5%93%AA&tn=monline_3_dg&ie=utf-8\"\n",
    "# text=get_url(url,'utf-8')\n",
    "# print(text)\n",
    "\n",
    "\n"
   ]
  },
  {
   "cell_type": "code",
   "execution_count": 5,
   "metadata": {},
   "outputs": [
    {
     "name": "stdout",
     "output_type": "stream",
     "text": [
      "完成\n"
     ]
    }
   ],
   "source": [
    "# 词云库\n",
    "from wordcloud import WordCloud\n",
    "import matplotlib.pyplot as plt\n",
    "\n",
    "def word_cloud(textPath,imgPath):\n",
    "    \"\"\"\n",
    "    textPath:文本路径\n",
    "    imgPath:词云形状路径\n",
    "    \"\"\"\n",
    "    with open(textPath) as fp:\n",
    "        text=fp.read()\n",
    "    #     print(text)\n",
    "    #     将文本放入WordCoud容器对象中并分析\n",
    "\n",
    "        # 词云图片\n",
    "    mask =  plt.imread(imgPath)\n",
    "    \n",
    "    #字体：C:\\Windows\\Fonts\\FZSTK.TTF  C:\\Windows\\Fonts\\FZLTCXHJW.TTF\n",
    "    font=\"STKAITI.TTF\"\n",
    "\n",
    "    WordClouds =WordCloud(\n",
    "        # 设置字体，不指定就会出现乱码\n",
    "        font_path=font,  # 这个路径是pc中的字体路径\n",
    "\n",
    "        # 设置背景色\n",
    "        background_color='white',\n",
    "\n",
    "        # 词云形状\n",
    "        mask=mask,\n",
    "\n",
    "        # 允许最大词汇\n",
    "        max_words=100,\n",
    "\n",
    "        # 最大号字体\n",
    "        max_font_size=70,\n",
    "\n",
    "        # 设置有多少种随机生成状态，即有多少种配色方案\n",
    "        random_state=30,\n",
    "\n",
    "        # 清晰度\n",
    "        scale=6\n",
    "    ).generate(text)\n",
    "    WordClouds.to_file('词云图片库/3.png')\n",
    "\n",
    "word_cloud('2.txt','2.jpg')\n",
    "# f = open('2.txt', 'r+')\n",
    "# text=f.read().replace(\"捂脸 捂脸\", \"\")\n",
    "# text=text.replace(\"奸笑 奸笑\", \"\")\n",
    "# text=text.replace(\"皱眉 皱眉\", \"\")\n",
    "# text=text.replace(\"自动回复\", \"\")\n",
    "# text=text.replace(\"我现在不在\", \"\")\n",
    "# f.write(text)\n",
    "# f.close()\n",
    "# print('ok')\n",
    "#  with open(textPath) as fp:\n",
    "#         text=fp.read()"
   ]
  },
  {
   "cell_type": "code",
   "execution_count": null,
   "metadata": {},
   "outputs": [],
   "source": []
  }
 ],
 "metadata": {
  "kernelspec": {
   "display_name": "Python 3",
   "language": "python",
   "name": "python3"
  },
  "language_info": {
   "codemirror_mode": {
    "name": "ipython",
    "version": 3
   },
   "file_extension": ".py",
   "mimetype": "text/x-python",
   "name": "python",
   "nbconvert_exporter": "python",
   "pygments_lexer": "ipython3",
   "version": "3.7.3"
  }
 },
 "nbformat": 4,
 "nbformat_minor": 2
}
